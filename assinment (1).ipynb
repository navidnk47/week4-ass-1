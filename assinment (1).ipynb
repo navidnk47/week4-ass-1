{
 "cells": [
  {
   "cell_type": "code",
   "execution_count": null,
   "id": "22ca1ff5-5e41-4802-99ff-d514071b3394",
   "metadata": {},
   "outputs": [],
   "source": [
    "Q1"
   ]
  },
  {
   "cell_type": "code",
   "execution_count": 1,
   "id": "8381593e-1abf-4996-886a-0288c9c2c79a",
   "metadata": {},
   "outputs": [],
   "source": [
    "class vehical:\n",
    "    def __init__(self,vehical_name , max_speed , average_vehicals):\n",
    "        self.vehical_name=vehical_name\n",
    "        self.max_speed = max_speed\n",
    "        self.average_vehicals = average_vehicals\n",
    "        \n",
    "    def return_vehical_details(self):\n",
    "        return self.vehical_name, self.max_speed, self.average_vehicals"
   ]
  },
  {
   "cell_type": "code",
   "execution_count": 21,
   "id": "a7f6a7a5-e0c1-4716-b1e9-3a4aaf7ced42",
   "metadata": {},
   "outputs": [],
   "source": [
    "navid=vehical('jaguar',246,54.23)"
   ]
  },
  {
   "cell_type": "code",
   "execution_count": 22,
   "id": "85fb4d0c-f742-4c42-bf62-d6aaede7a9be",
   "metadata": {},
   "outputs": [
    {
     "data": {
      "text/plain": [
       "('jaguar', 246, 54.23)"
      ]
     },
     "execution_count": 22,
     "metadata": {},
     "output_type": "execute_result"
    }
   ],
   "source": [
    "navid.return_vehical_details()"
   ]
  },
  {
   "cell_type": "code",
   "execution_count": 23,
   "id": "b89c9b13-4923-4039-9ef2-cb682a888217",
   "metadata": {},
   "outputs": [
    {
     "data": {
      "text/plain": [
       "'jaguar'"
      ]
     },
     "execution_count": 23,
     "metadata": {},
     "output_type": "execute_result"
    }
   ],
   "source": [
    "navid.vehical_name"
   ]
  },
  {
   "cell_type": "code",
   "execution_count": null,
   "id": "69beffa6-be56-44e7-ac35-190b5df6f26a",
   "metadata": {},
   "outputs": [],
   "source": []
  },
  {
   "cell_type": "code",
   "execution_count": null,
   "id": "2d7a7ef6-0d07-48a0-b9f2-ef38725fa19a",
   "metadata": {},
   "outputs": [],
   "source": [
    "Q2)Create a child class car from the vehicle class created in Que 1, which will inherit the vehicle class.\n",
    "Create a method named seating_capacity which takes capacity as an argument and returns the name of\n",
    "the vehicle and its seating capacity."
   ]
  },
  {
   "cell_type": "code",
   "execution_count": 6,
   "id": "81b8f02f-f334-41ef-8b07-ce185bcba895",
   "metadata": {},
   "outputs": [],
   "source": [
    "class Vehicle:\n",
    "    def __init__(self, name, max_speed):\n",
    "        self.name = name\n",
    "        self.max_speed = max_speed\n",
    "class Car(Vehicle):\n",
    "    def __init__(self, name, max_speed, seating_capacity):\n",
    "        super().__init__(name, max_speed)\n",
    "        self.seating_capacity = seating_capacity\n",
    "    def seating_capacity(self):\n",
    "        return f\"The {self.name} has a seating capacity of {self.seating_capacity}.\"\n",
    "             \n"
   ]
  },
  {
   "cell_type": "code",
   "execution_count": 7,
   "id": "3682ccc1-f8d2-4af2-9b8b-26b89731648b",
   "metadata": {},
   "outputs": [],
   "source": [
    "my_car = Car(\"Toyota Camry\", 120, 5)"
   ]
  },
  {
   "cell_type": "code",
   "execution_count": 10,
   "id": "c3cd4713-a093-4c68-94fd-60d56b7f348d",
   "metadata": {},
   "outputs": [
    {
     "name": "stdout",
     "output_type": "stream",
     "text": [
      "<__main__.Car object at 0x7f5d48f11390>\n"
     ]
    }
   ],
   "source": [
    "print(my_car)"
   ]
  },
  {
   "cell_type": "code",
   "execution_count": 11,
   "id": "5b0e1210-3ae8-4676-9ab2-44b23c6a71c3",
   "metadata": {},
   "outputs": [
    {
     "name": "stdout",
     "output_type": "stream",
     "text": [
      "5\n"
     ]
    }
   ],
   "source": [
    "print(my_car.seating_capacity)"
   ]
  },
  {
   "cell_type": "code",
   "execution_count": null,
   "id": "ebda4f55-5822-4e90-8d47-69f6ed3b63de",
   "metadata": {},
   "outputs": [],
   "source": []
  },
  {
   "cell_type": "code",
   "execution_count": 1,
   "id": "e171d092-910a-4f9e-ae30-0718dd3dfa26",
   "metadata": {},
   "outputs": [],
   "source": [
    "class vehicale:\n",
    "    def __init__(self, name):\n",
    "        self.name = name\n",
    "        \n",
    "    def get_name(self):\n",
    "        return self.name"
   ]
  },
  {
   "cell_type": "code",
   "execution_count": 2,
   "id": "c276c909-12c7-4849-88ed-82d8c59c0f04",
   "metadata": {},
   "outputs": [],
   "source": [
    "class car(vehicale):\n",
    "    def __init__ (self, name):\n",
    "        self.__init__(name)\n",
    "    def sitting_capacity(self,capacity):\n",
    "        return f\" the {self.name} has a sitting capacity of {capacity}.\""
   ]
  },
  {
   "cell_type": "code",
   "execution_count": 3,
   "id": "f4f4562d-d80c-4497-9ae7-2227243ed1d0",
   "metadata": {},
   "outputs": [
    {
     "ename": "RecursionError",
     "evalue": "maximum recursion depth exceeded",
     "output_type": "error",
     "traceback": [
      "\u001b[0;31m---------------------------------------------------------------------------\u001b[0m",
      "\u001b[0;31mRecursionError\u001b[0m                            Traceback (most recent call last)",
      "Cell \u001b[0;32mIn[3], line 1\u001b[0m\n\u001b[0;32m----> 1\u001b[0m my_car \u001b[38;5;241m=\u001b[39m \u001b[43mcar\u001b[49m\u001b[43m(\u001b[49m\u001b[38;5;124;43m\"\u001b[39;49m\u001b[38;5;124;43mapple car model sabse bhare \u001b[39;49m\u001b[38;5;124;43m\"\u001b[39;49m\u001b[43m)\u001b[49m\n",
      "Cell \u001b[0;32mIn[2], line 3\u001b[0m, in \u001b[0;36mcar.__init__\u001b[0;34m(self, name)\u001b[0m\n\u001b[1;32m      2\u001b[0m \u001b[38;5;28;01mdef\u001b[39;00m \u001b[38;5;21m__init__\u001b[39m (\u001b[38;5;28mself\u001b[39m, name):\n\u001b[0;32m----> 3\u001b[0m     \u001b[38;5;28;43mself\u001b[39;49m\u001b[38;5;241;43m.\u001b[39;49m\u001b[38;5;21;43m__init__\u001b[39;49m\u001b[43m(\u001b[49m\u001b[43mname\u001b[49m\u001b[43m)\u001b[49m\n",
      "Cell \u001b[0;32mIn[2], line 3\u001b[0m, in \u001b[0;36mcar.__init__\u001b[0;34m(self, name)\u001b[0m\n\u001b[1;32m      2\u001b[0m \u001b[38;5;28;01mdef\u001b[39;00m \u001b[38;5;21m__init__\u001b[39m (\u001b[38;5;28mself\u001b[39m, name):\n\u001b[0;32m----> 3\u001b[0m     \u001b[38;5;28;43mself\u001b[39;49m\u001b[38;5;241;43m.\u001b[39;49m\u001b[38;5;21;43m__init__\u001b[39;49m\u001b[43m(\u001b[49m\u001b[43mname\u001b[49m\u001b[43m)\u001b[49m\n",
      "    \u001b[0;31m[... skipping similar frames: car.__init__ at line 3 (2969 times)]\u001b[0m\n",
      "Cell \u001b[0;32mIn[2], line 3\u001b[0m, in \u001b[0;36mcar.__init__\u001b[0;34m(self, name)\u001b[0m\n\u001b[1;32m      2\u001b[0m \u001b[38;5;28;01mdef\u001b[39;00m \u001b[38;5;21m__init__\u001b[39m (\u001b[38;5;28mself\u001b[39m, name):\n\u001b[0;32m----> 3\u001b[0m     \u001b[38;5;28;43mself\u001b[39;49m\u001b[38;5;241;43m.\u001b[39;49m\u001b[38;5;21;43m__init__\u001b[39;49m\u001b[43m(\u001b[49m\u001b[43mname\u001b[49m\u001b[43m)\u001b[49m\n",
      "\u001b[0;31mRecursionError\u001b[0m: maximum recursion depth exceeded"
     ]
    }
   ],
   "source": [
    "my_car = car(\"apple car model sabse bhare \")"
   ]
  },
  {
   "cell_type": "code",
   "execution_count": null,
   "id": "7d2f1a97-cfd7-4041-b0d9-3dc6970e0a96",
   "metadata": {},
   "outputs": [],
   "source": []
  },
  {
   "cell_type": "code",
   "execution_count": null,
   "id": "8ba48883-2e77-45b8-8700-4158196dea6a",
   "metadata": {},
   "outputs": [],
   "source": [
    "Q3)"
   ]
  },
  {
   "cell_type": "code",
   "execution_count": null,
   "id": "868b63b0-0da3-4243-acbe-e3a15e8e5842",
   "metadata": {},
   "outputs": [],
   "source": [
    "class subject1:\n",
    "    def test_subject1(self) : \n",
    "        print(\"this is my subject 1\" )"
   ]
  },
  {
   "cell_type": "code",
   "execution_count": null,
   "id": "0d3204e9-3707-4a2f-80af-930139e33972",
   "metadata": {},
   "outputs": [],
   "source": [
    "class subject2 :\n",
    "    def test_subject2(self) : \n",
    "        print(\"this is my subject 2\")"
   ]
  },
  {
   "cell_type": "code",
   "execution_count": null,
   "id": "a4addc77-1b3e-43e6-8362-bedd93220ae5",
   "metadata": {},
   "outputs": [],
   "source": [
    "class subject3 (subject1 , subject2) : \n",
    "    pass"
   ]
  },
  {
   "cell_type": "code",
   "execution_count": 35,
   "id": "478f7df6-dc87-4e9a-9f34-7bdfe58ecc67",
   "metadata": {},
   "outputs": [],
   "source": [
    "obj_subject3 = subject3()"
   ]
  },
  {
   "cell_type": "code",
   "execution_count": 36,
   "id": "c39b7598-608a-40a4-9e5a-eb481ce1c609",
   "metadata": {},
   "outputs": [
    {
     "name": "stdout",
     "output_type": "stream",
     "text": [
      "this is my subject 1\n"
     ]
    }
   ],
   "source": [
    "obj_subject3.test_subject1()"
   ]
  },
  {
   "cell_type": "code",
   "execution_count": 37,
   "id": "022e9132-ebdb-41ac-a76c-76a9be3f6f83",
   "metadata": {},
   "outputs": [
    {
     "name": "stdout",
     "output_type": "stream",
     "text": [
      "this is my subject 2\n"
     ]
    }
   ],
   "source": [
    "obj_subject3.test_subject2()"
   ]
  },
  {
   "cell_type": "code",
   "execution_count": null,
   "id": "e325e341-0868-44a0-8baf-1a3f658ed0b8",
   "metadata": {},
   "outputs": [],
   "source": []
  },
  {
   "cell_type": "code",
   "execution_count": null,
   "id": "08e66c81-54a9-4624-88f8-bb4d18831bea",
   "metadata": {},
   "outputs": [],
   "source": [
    "Q4"
   ]
  },
  {
   "cell_type": "code",
   "execution_count": 69,
   "id": "203981fe-2a11-49bc-81b4-5d543db1a6b9",
   "metadata": {},
   "outputs": [],
   "source": [
    "class bank_account:\n",
    "    def __init__(self,balance):\n",
    "        self.__balance = balance\n",
    "    \n",
    "    def deposite(self , amount) :\n",
    "        self.__balance = self.__balance + amount\n",
    "        \n",
    "    def withdraw(self, amount):\n",
    "         if self.__balance>=amount:\n",
    "            self.__balance=self.__balance - amount\n",
    "            return True\n",
    "         else :\n",
    "            return False\n",
    "    \n",
    "    def get_balance(self):\n",
    "        return self.__balance"
   ]
  },
  {
   "cell_type": "code",
   "execution_count": 65,
   "id": "e05f9b35-176e-401f-9c80-2a46ff88a2b9",
   "metadata": {},
   "outputs": [],
   "source": [
    "navid=bank_account(1000)"
   ]
  },
  {
   "cell_type": "code",
   "execution_count": 66,
   "id": "db408179-986d-4156-b87d-136752a2eb0e",
   "metadata": {},
   "outputs": [
    {
     "data": {
      "text/plain": [
       "1000"
      ]
     },
     "execution_count": 66,
     "metadata": {},
     "output_type": "execute_result"
    }
   ],
   "source": [
    "navid.get_balance()"
   ]
  },
  {
   "cell_type": "code",
   "execution_count": 70,
   "id": "ebe2dd1c-f65c-451b-aef5-b517816b8d34",
   "metadata": {},
   "outputs": [],
   "source": [
    "navid.deposite(3000)"
   ]
  },
  {
   "cell_type": "code",
   "execution_count": 71,
   "id": "0413c033-4c26-472e-9eed-becc0ee278a3",
   "metadata": {},
   "outputs": [
    {
     "data": {
      "text/plain": [
       "14000"
      ]
     },
     "execution_count": 71,
     "metadata": {},
     "output_type": "execute_result"
    }
   ],
   "source": [
    "navid.get_balance()"
   ]
  },
  {
   "cell_type": "code",
   "execution_count": 72,
   "id": "f0461f42-50ec-4a6c-ab3d-02134cec1eca",
   "metadata": {},
   "outputs": [
    {
     "data": {
      "text/plain": [
       "True"
      ]
     },
     "execution_count": 72,
     "metadata": {},
     "output_type": "execute_result"
    }
   ],
   "source": [
    "navid.withdraw(10000)"
   ]
  },
  {
   "cell_type": "code",
   "execution_count": 73,
   "id": "d137e4d7-0269-489f-94f6-f2703e5c7dbc",
   "metadata": {},
   "outputs": [
    {
     "data": {
      "text/plain": [
       "4000"
      ]
     },
     "execution_count": 73,
     "metadata": {},
     "output_type": "execute_result"
    }
   ],
   "source": [
    "navid.get_balance()"
   ]
  },
  {
   "cell_type": "code",
   "execution_count": null,
   "id": "c4994c7c-a34f-410f-b3e4-bde6abbb73bd",
   "metadata": {},
   "outputs": [],
   "source": []
  },
  {
   "cell_type": "code",
   "execution_count": null,
   "id": "0bd68d0c-dfdf-472d-9391-9f2995c18abb",
   "metadata": {},
   "outputs": [],
   "source": [
    "Q5"
   ]
  },
  {
   "cell_type": "code",
   "execution_count": 74,
   "id": "9f518c62-bae9-4b52-bf1d-b3f5d60b626c",
   "metadata": {},
   "outputs": [],
   "source": [
    "class class1 :\n",
    "    def test_class1(self) : \n",
    "        print(\"this is my class1 \" )"
   ]
  },
  {
   "cell_type": "code",
   "execution_count": 75,
   "id": "e1bd140c-5481-40d2-b905-d2cc81d10488",
   "metadata": {},
   "outputs": [],
   "source": [
    "class class2(class1) : \n",
    "    def test_class2(self) : \n",
    "        print(\"this is my class2\" )"
   ]
  },
  {
   "cell_type": "code",
   "execution_count": 76,
   "id": "6b886f52-59d0-4d07-8b0f-ce15af8d42da",
   "metadata": {},
   "outputs": [],
   "source": [
    "class class3(class2) : \n",
    "    def test_class3(self) : \n",
    "        print(\"this is my class3 \")"
   ]
  },
  {
   "cell_type": "code",
   "execution_count": 77,
   "id": "e804aadc-0e3a-408a-bf90-f67da33869e9",
   "metadata": {},
   "outputs": [],
   "source": [
    "obj_class3  = class3()"
   ]
  },
  {
   "cell_type": "code",
   "execution_count": 78,
   "id": "7a94e58d-0053-4c9c-bf4a-770fe2e9c1dd",
   "metadata": {},
   "outputs": [
    {
     "name": "stdout",
     "output_type": "stream",
     "text": [
      "this is my class1 \n"
     ]
    }
   ],
   "source": [
    "obj_class3.test_class1()"
   ]
  },
  {
   "cell_type": "code",
   "execution_count": 79,
   "id": "ec9ca65b-09ce-47ad-ab5b-5b7684179f43",
   "metadata": {},
   "outputs": [
    {
     "name": "stdout",
     "output_type": "stream",
     "text": [
      "this is my class2\n"
     ]
    }
   ],
   "source": [
    "obj_class3.test_class2()"
   ]
  },
  {
   "cell_type": "code",
   "execution_count": null,
   "id": "f57ed474-a232-4717-8848-acb2b66dcd8e",
   "metadata": {},
   "outputs": [],
   "source": []
  }
 ],
 "metadata": {
  "kernelspec": {
   "display_name": "Python 3 (ipykernel)",
   "language": "python",
   "name": "python3"
  },
  "language_info": {
   "codemirror_mode": {
    "name": "ipython",
    "version": 3
   },
   "file_extension": ".py",
   "mimetype": "text/x-python",
   "name": "python",
   "nbconvert_exporter": "python",
   "pygments_lexer": "ipython3",
   "version": "3.10.8"
  }
 },
 "nbformat": 4,
 "nbformat_minor": 5
}
